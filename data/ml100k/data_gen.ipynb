{
 "cells": [
  {
   "cell_type": "code",
   "execution_count": 12,
   "metadata": {},
   "outputs": [],
   "source": [
    "import numpy as np\n",
    "import torch\n",
    "import random"
   ]
  },
  {
   "cell_type": "code",
   "execution_count": 13,
   "metadata": {},
   "outputs": [],
   "source": [
    "def set_seed(seed):\n",
    "    random.seed(seed)\n",
    "    np.random.seed(seed)\n",
    "    torch.manual_seed(seed)\n",
    "    torch.cuda.manual_seed(seed)\n",
    "    torch.cuda.manual_seed_all(seed)\n",
    "set_seed(2024)"
   ]
  },
  {
   "cell_type": "code",
   "execution_count": 14,
   "metadata": {},
   "outputs": [
    {
     "data": {
      "text/plain": [
       "array([[2, 1, 2, ..., 1, 2, 1],\n",
       "       [2, 2, 1, ..., 1, 3, 1],\n",
       "       [3, 2, 1, ..., 1, 1, 1],\n",
       "       ...,\n",
       "       [3, 3, 1, ..., 1, 1, 1],\n",
       "       [2, 2, 1, ..., 1, 1, 1],\n",
       "       [2, 2, 3, ..., 1, 1, 3]])"
      ]
     },
     "execution_count": 14,
     "metadata": {},
     "output_type": "execute_result"
    }
   ],
   "source": [
    "ml100k_mf_full_rating = np.loadtxt('./ml100k_mf_full_rating.txt').astype(int)\n",
    "ml100k_mf_full_rating"
   ]
  },
  {
   "cell_type": "code",
   "execution_count": 15,
   "metadata": {},
   "outputs": [
    {
     "data": {
      "text/plain": [
       "array([     0, 834684, 383725, 228226,  99015,  40476])"
      ]
     },
     "execution_count": 15,
     "metadata": {},
     "output_type": "execute_result"
    }
   ],
   "source": [
    "np.bincount(ml100k_mf_full_rating.reshape(1, -1)[0])"
   ]
  },
  {
   "cell_type": "code",
   "execution_count": 47,
   "metadata": {},
   "outputs": [
    {
     "name": "stderr",
     "output_type": "stream",
     "text": [
      "/tmp/ipykernel_55823/2746835213.py:3: UserWarning: To copy construct from a tensor, it is recommended to use sourceTensor.clone().detach() or sourceTensor.clone().detach().requires_grad_(True), rather than torch.tensor(sourceTensor).\n",
      "  ml100k_mf_full_rating = torch.tensor(ml100k_mf_full_rating)\n"
     ]
    },
    {
     "data": {
      "text/plain": [
       "tensor([[2, 1, 2,  ..., 1, 2, 1],\n",
       "        [2, 2, 1,  ..., 1, 3, 1],\n",
       "        [3, 2, 1,  ..., 1, 1, 1],\n",
       "        ...,\n",
       "        [3, 3, 1,  ..., 1, 1, 1],\n",
       "        [2, 2, 1,  ..., 1, 1, 1],\n",
       "        [2, 2, 3,  ..., 1, 1, 3]])"
      ]
     },
     "execution_count": 47,
     "metadata": {},
     "output_type": "execute_result"
    }
   ],
   "source": [
    "p = 0.13\n",
    "alpha = 0.5\n",
    "ml100k_mf_full_rating = torch.tensor(ml100k_mf_full_rating)\n",
    "ml100k_mf_full_rating\n"
   ]
  },
  {
   "cell_type": "code",
   "execution_count": 48,
   "metadata": {},
   "outputs": [],
   "source": [
    "beta = torch.clamp(6 - ml100k_mf_full_rating, max=4)"
   ]
  },
  {
   "cell_type": "code",
   "execution_count": 49,
   "metadata": {},
   "outputs": [
    {
     "data": {
      "text/plain": [
       "tensor([[4, 4, 4,  ..., 4, 4, 4],\n",
       "        [4, 4, 4,  ..., 4, 3, 4],\n",
       "        [3, 4, 4,  ..., 4, 4, 4],\n",
       "        ...,\n",
       "        [3, 3, 4,  ..., 4, 4, 4],\n",
       "        [4, 4, 4,  ..., 4, 4, 4],\n",
       "        [4, 4, 3,  ..., 4, 4, 3]])"
      ]
     },
     "execution_count": 49,
     "metadata": {},
     "output_type": "execute_result"
    }
   ],
   "source": [
    "beta"
   ]
  },
  {
   "cell_type": "code",
   "execution_count": 50,
   "metadata": {},
   "outputs": [
    {
     "data": {
      "text/plain": [
       "tensor([[0.0081, 0.0081, 0.0081,  ..., 0.0081, 0.0081, 0.0081],\n",
       "        [0.0081, 0.0081, 0.0081,  ..., 0.0081, 0.0162, 0.0081],\n",
       "        [0.0162, 0.0081, 0.0081,  ..., 0.0081, 0.0081, 0.0081],\n",
       "        ...,\n",
       "        [0.0162, 0.0162, 0.0081,  ..., 0.0081, 0.0081, 0.0081],\n",
       "        [0.0081, 0.0081, 0.0081,  ..., 0.0081, 0.0081, 0.0081],\n",
       "        [0.0081, 0.0081, 0.0162,  ..., 0.0081, 0.0081, 0.0162]])"
      ]
     },
     "execution_count": 50,
     "metadata": {},
     "output_type": "execute_result"
    }
   ],
   "source": [
    "prob = p * (alpha ** beta)\n",
    "prob"
   ]
  },
  {
   "cell_type": "code",
   "execution_count": 51,
   "metadata": {},
   "outputs": [
    {
     "data": {
      "text/plain": [
       "tensor(19457.1738)"
      ]
     },
     "execution_count": 51,
     "metadata": {},
     "output_type": "execute_result"
    }
   ],
   "source": [
    "prob.sum()"
   ]
  },
  {
   "cell_type": "code",
   "execution_count": 52,
   "metadata": {},
   "outputs": [
    {
     "data": {
      "text/plain": [
       "(943, 1682)"
      ]
     },
     "execution_count": 52,
     "metadata": {},
     "output_type": "execute_result"
    }
   ],
   "source": [
    "ml100k_mf_full_rating.shape[0], ml100k_mf_full_rating.shape[1]"
   ]
  },
  {
   "cell_type": "code",
   "execution_count": 53,
   "metadata": {},
   "outputs": [
    {
     "data": {
      "text/plain": [
       "15861.26"
      ]
     },
     "execution_count": 53,
     "metadata": {},
     "output_type": "execute_result"
    }
   ],
   "source": [
    "943 * 1682 * 0.01"
   ]
  },
  {
   "cell_type": "code",
   "execution_count": 54,
   "metadata": {},
   "outputs": [
    {
     "data": {
      "text/plain": [
       "tensor([[0., 0., 0.,  ..., 0., 0., 0.],\n",
       "        [0., 0., 0.,  ..., 0., 0., 0.],\n",
       "        [0., 0., 0.,  ..., 0., 0., 0.],\n",
       "        ...,\n",
       "        [0., 0., 0.,  ..., 0., 0., 0.],\n",
       "        [0., 0., 0.,  ..., 0., 0., 0.],\n",
       "        [0., 0., 0.,  ..., 0., 0., 0.]])"
      ]
     },
     "execution_count": 54,
     "metadata": {},
     "output_type": "execute_result"
    }
   ],
   "source": [
    "idx01 = torch.bernoulli(prob)\n",
    "idx01"
   ]
  },
  {
   "cell_type": "code",
   "execution_count": 55,
   "metadata": {},
   "outputs": [
    {
     "data": {
      "text/plain": [
       "tensor([[   0,   16],\n",
       "        [   0,   50],\n",
       "        [   0,  348],\n",
       "        ...,\n",
       "        [ 942, 1528],\n",
       "        [ 942, 1546],\n",
       "        [ 942, 1623]])"
      ]
     },
     "execution_count": 55,
     "metadata": {},
     "output_type": "execute_result"
    }
   ],
   "source": [
    "index1 = torch.nonzero(idx01 == 1)\n",
    "index1"
   ]
  },
  {
   "cell_type": "code",
   "execution_count": 56,
   "metadata": {},
   "outputs": [
    {
     "data": {
      "text/plain": [
       "943"
      ]
     },
     "execution_count": 56,
     "metadata": {},
     "output_type": "execute_result"
    }
   ],
   "source": [
    "len(np.unique(index1[:, 0].numpy()))"
   ]
  },
  {
   "cell_type": "code",
   "execution_count": 57,
   "metadata": {},
   "outputs": [
    {
     "data": {
      "text/plain": [
       "1682"
      ]
     },
     "execution_count": 57,
     "metadata": {},
     "output_type": "execute_result"
    }
   ],
   "source": [
    "len(np.unique(index1[:, 1].numpy()))"
   ]
  },
  {
   "cell_type": "code",
   "execution_count": 58,
   "metadata": {},
   "outputs": [],
   "source": [
    "np.savetxt('./ground_truth.txt', ml100k_mf_full_rating.reshape(1, -1)[0].numpy(), fmt='%d')\n",
    "np.savetxt('./propensity.txt', prob.reshape(1, -1)[0].numpy())\n",
    "np.savetxt('./user_item.txt', index1.numpy(), fmt='%d')\n",
    "np.savetxt('./y.txt', ml100k_mf_full_rating[index1[:, 0], index1[:, 1]].numpy(), fmt='%d')"
   ]
  },
  {
   "cell_type": "code",
   "execution_count": 59,
   "metadata": {},
   "outputs": [
    {
     "data": {
      "text/plain": [
       "tensor([1, 2, 1,  ..., 1, 4, 1])"
      ]
     },
     "execution_count": 59,
     "metadata": {},
     "output_type": "execute_result"
    }
   ],
   "source": [
    "ml100k_mf_full_rating[index1[:, 0], index1[:, 1]]"
   ]
  }
 ],
 "metadata": {
  "kernelspec": {
   "display_name": "pyg_usual",
   "language": "python",
   "name": "python3"
  },
  "language_info": {
   "codemirror_mode": {
    "name": "ipython",
    "version": 3
   },
   "file_extension": ".py",
   "mimetype": "text/x-python",
   "name": "python",
   "nbconvert_exporter": "python",
   "pygments_lexer": "ipython3",
   "version": "3.11.4"
  }
 },
 "nbformat": 4,
 "nbformat_minor": 2
}
